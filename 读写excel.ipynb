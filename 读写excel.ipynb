{
 "cells": [
  {
   "cell_type": "code",
   "execution_count": 84,
   "metadata": {},
   "outputs": [
    {
     "data": {
      "text/plain": [
       "'0.20.5'"
      ]
     },
     "execution_count": 84,
     "metadata": {},
     "output_type": "execute_result"
    }
   ],
   "source": [
    "#!/usr/bin/python\n",
    "# -*- coding: UTF-8 -*-\n",
    "import xlwings as xls\n",
    "xls.__version__"
   ]
  },
  {
   "cell_type": "markdown",
   "metadata": {},
   "source": [
    "# 打开Excel程序，默认设置：程序可见，并新建一个工作簿"
   ]
  },
  {
   "cell_type": "code",
   "execution_count": 85,
   "metadata": {},
   "outputs": [],
   "source": [
    "app = xls.App(visible=True,add_book=True)"
   ]
  },
  {
   "cell_type": "markdown",
   "metadata": {},
   "source": [
    "# 再新建一个工作簿"
   ]
  },
  {
   "cell_type": "code",
   "execution_count": 86,
   "metadata": {},
   "outputs": [],
   "source": [
    "wb = app.books.add()"
   ]
  },
  {
   "cell_type": "markdown",
   "metadata": {},
   "source": [
    "# app.books是可迭代对象，显示目前所有的工作簿"
   ]
  },
  {
   "cell_type": "code",
   "execution_count": 87,
   "metadata": {},
   "outputs": [
    {
     "name": "stdout",
     "output_type": "stream",
     "text": [
      "Books([<Book [工作簿1]>, <Book [工作簿2]>])\n"
     ]
    }
   ],
   "source": [
    "print(app.books)"
   ]
  },
  {
   "cell_type": "code",
   "execution_count": 88,
   "metadata": {},
   "outputs": [
    {
     "data": {
      "text/plain": [
       "<Book [工作簿1]>"
      ]
     },
     "execution_count": 88,
     "metadata": {},
     "output_type": "execute_result"
    }
   ],
   "source": [
    "app.books[0]"
   ]
  },
  {
   "cell_type": "code",
   "execution_count": 89,
   "metadata": {},
   "outputs": [
    {
     "data": {
      "text/plain": [
       "<Book [工作簿1]>"
      ]
     },
     "execution_count": 89,
     "metadata": {},
     "output_type": "execute_result"
    }
   ],
   "source": [
    "app.books[\"工作簿1\"]"
   ]
  },
  {
   "cell_type": "markdown",
   "metadata": {},
   "source": [
    "# 关闭工作薄"
   ]
  },
  {
   "cell_type": "code",
   "execution_count": 90,
   "metadata": {},
   "outputs": [],
   "source": [
    "app.books[\"工作簿2\"].close()\n",
    "app.books[0].close()"
   ]
  },
  {
   "cell_type": "markdown",
   "metadata": {},
   "source": [
    "# 打开一个现存的工作薄"
   ]
  },
  {
   "cell_type": "code",
   "execution_count": 91,
   "metadata": {},
   "outputs": [],
   "source": [
    "wb=app.books.open('基准书1.xlsx')"
   ]
  },
  {
   "cell_type": "markdown",
   "metadata": {},
   "source": [
    "# 显示工作薄内所有sheet"
   ]
  },
  {
   "cell_type": "code",
   "execution_count": 92,
   "metadata": {},
   "outputs": [
    {
     "name": "stdout",
     "output_type": "stream",
     "text": [
      "<Sheet [基准书1.xlsx]1>\n",
      "<Sheet [基准书1.xlsx]正本>\n"
     ]
    }
   ],
   "source": [
    "wb.sheets\n",
    "for sht in wb.sheets:\n",
    "    print(sht)"
   ]
  },
  {
   "cell_type": "markdown",
   "metadata": {},
   "source": [
    "# 显示各个sheet的打印页数"
   ]
  },
  {
   "cell_type": "code",
   "execution_count": 93,
   "metadata": {},
   "outputs": [
    {
     "name": "stdout",
     "output_type": "stream",
     "text": [
      "1\n",
      "1\n"
     ]
    }
   ],
   "source": [
    "for sht in wb.sheets:\n",
    "    print(sht.api.PageSetup.Pages.Count)"
   ]
  },
  {
   "cell_type": "markdown",
   "metadata": {},
   "source": [
    "# 获取分页符下面的行号"
   ]
  },
  {
   "cell_type": "code",
   "execution_count": 94,
   "metadata": {},
   "outputs": [],
   "source": [
    "for sht in wb.sheets:\n",
    "    for pb in sht.api.HPageBreaks:\n",
    "        print(sht,pb.Location.Row)"
   ]
  },
  {
   "cell_type": "markdown",
   "metadata": {},
   "source": [
    "# 显示页眉"
   ]
  },
  {
   "cell_type": "code",
   "execution_count": 42,
   "metadata": {},
   "outputs": [
    {
     "name": "stdout",
     "output_type": "stream",
     "text": [
      "  \n"
     ]
    }
   ],
   "source": [
    "sht=wb.sheets[0]\n",
    "LeftHeader=sht.api.PageSetup.LeftHeader\n",
    "CenterHeader=sht.api.PageSetup.CenterHeader\n",
    "RightHeader=sht.api.PageSetup.RightHeader\n",
    "print(LeftHeader,CenterHeader,RightHeader)"
   ]
  },
  {
   "cell_type": "markdown",
   "metadata": {},
   "source": [
    "# 获取单元格内文本"
   ]
  },
  {
   "cell_type": "code",
   "execution_count": 43,
   "metadata": {},
   "outputs": [
    {
     "name": "stdout",
     "output_type": "stream",
     "text": [
      "文本内容： 供应商\n",
      "检查频次\n",
      "文本内容： 供应商\n",
      "检查频次\n",
      "背景颜色： None\n",
      "行高： 15.0\n",
      "列宽： 1.38\n",
      "字体: None\n",
      "字体大小: 12.0\n",
      "字体颜色： 0.0\n",
      "是否缩小字体适应单元格： False\n",
      "是否自动换行： True\n"
     ]
    }
   ],
   "source": [
    "print(\"文本内容：\",wb.sheets[\"正本\"]['AD4'].value)\n",
    "print(\"文本内容：\",wb.sheets[\"正本\"]['$AD$4'].value)\n",
    "#背景色\n",
    "print(\"背景颜色：\",wb.sheets[\"正本\"]['AD4'].color)\n",
    "print(\"行高：\",wb.sheets[\"正本\"]['AD4'].row_height)\n",
    "print(\"列宽：\",wb.sheets[\"正本\"]['AD4'].column_width)\n",
    "print(\"字体:\",wb.sheets[\"正本\"]['AD4'].api.Font.Name)\n",
    "print(\"字体大小:\",wb.sheets[\"正本\"]['AD4'].api.Font.size)\n",
    "print(\"字体颜色：\",wb.sheets[\"正本\"]['AD4'].api.Font.Color)\n",
    "print(\"是否缩小字体适应单元格：\",wb.sheets[\"正本\"]['AD4'].api.ShrinkToFit)\n",
    "print(\"是否自动换行：\",wb.sheets[\"正本\"]['AD4'].api.WrapText)\n",
    "\n",
    "#设置颜色为(255,0,0)\n",
    "wb.sheets[\"正本\"]['AD4'].api.Font.Color=0x0000ff\n",
    "\n",
    "# -4108 水平居中。 -4131 靠左，-4152 靠右。\n",
    "wb.sheets[\"正本\"]['AD4'].api.HorizontalAlignment = -4108\n",
    "\n",
    "# -4108 垂直居中（默认）。 -4160 靠上，-4107 靠下， -4130 自动换行对齐。\n",
    "wb.sheets[\"正本\"]['AD4'].api.VerticalAlignment = -4130"
   ]
  },
  {
   "cell_type": "code",
   "execution_count": 44,
   "metadata": {},
   "outputs": [
    {
     "data": {
      "text/plain": [
       "['序\\n号',\n",
       " None,\n",
       " '检查项目',\n",
       " None,\n",
       " None,\n",
       " None,\n",
       " None,\n",
       " None,\n",
       " None,\n",
       " None,\n",
       " None,\n",
       " '项目\\n重要度',\n",
       " None,\n",
       " None,\n",
       " None,\n",
       " '规格',\n",
       " None,\n",
       " None,\n",
       " None,\n",
       " None,\n",
       " None,\n",
       " None,\n",
       " None,\n",
       " '检查方法']"
      ]
     },
     "execution_count": 44,
     "metadata": {},
     "output_type": "execute_result"
    }
   ],
   "source": [
    "wb.sheets[\"正本\"]['A4:X4'].value"
   ]
  },
  {
   "cell_type": "markdown",
   "metadata": {},
   "source": [
    "# 得到指定单元格所在的合并单元格的Range"
   ]
  },
  {
   "cell_type": "code",
   "execution_count": 45,
   "metadata": {},
   "outputs": [
    {
     "name": "stdout",
     "output_type": "stream",
     "text": [
      "True\n"
     ]
    },
    {
     "data": {
      "text/plain": [
       "'$C$4:$K$5'"
      ]
     },
     "execution_count": 45,
     "metadata": {},
     "output_type": "execute_result"
    }
   ],
   "source": [
    "#判断range范围内是否有合并单元格\n",
    "print(wb.sheets[\"正本\"]['A4:X4'].api.MergeCells)\n",
    "\n",
    "#合并单元格的range\n",
    "wb.sheets[\"正本\"]['C4'].api.MergeArea.Address"
   ]
  },
  {
   "cell_type": "markdown",
   "metadata": {},
   "source": [
    "# 偏移单元格的地址"
   ]
  },
  {
   "cell_type": "code",
   "execution_count": 46,
   "metadata": {},
   "outputs": [
    {
     "data": {
      "text/plain": [
       "'$X$4'"
      ]
     },
     "execution_count": 46,
     "metadata": {},
     "output_type": "execute_result"
    }
   ],
   "source": [
    "sht[\"$C$4\"].offset(row_offset=0,column_offset=21).address"
   ]
  },
  {
   "cell_type": "markdown",
   "metadata": {},
   "source": [
    "# 搜索文本\n",
    "当查找到指定查找区域的末尾时，本方法将环绕至区域的开始继续搜索。发生环绕后，为停止查找，可保存第一次找到的单元格地址，然后测试下一个查找到的单元格地址是否与其相同。"
   ]
  },
  {
   "cell_type": "code",
   "execution_count": 47,
   "metadata": {},
   "outputs": [
    {
     "name": "stdout",
     "output_type": "stream",
     "text": [
      "$C$6\n",
      "$C$8\n",
      "$C$10\n",
      "$C$12\n",
      "$C$14\n"
     ]
    }
   ],
   "source": [
    "rng=wb.sheets[\"正本\"].api.UsedRange.Find(\"尺寸\")\n",
    "if rng==None:\n",
    "    print(\"未搜索到该字符串\")\n",
    "else:\n",
    "    #保存第一个搜索结果的地址，防止无限循环\n",
    "    firstaddress = rng.Address\n",
    "    while True:\n",
    "        print(rng.Address)\n",
    "        rng = wb.sheets[\"正本\"].api.UsedRange.FindNext(rng)\n",
    "        if rng==None:\n",
    "            break\n",
    "        else:\n",
    "            if rng.Address == firstaddress:\n",
    "                break"
   ]
  },
  {
   "cell_type": "markdown",
   "metadata": {},
   "source": [
    "# 删除行，列"
   ]
  },
  {
   "cell_type": "code",
   "execution_count": 48,
   "metadata": {},
   "outputs": [],
   "source": [
    "#删除行\n",
    "wb.sheets[\"正本\"][\"34:34\"].delete()\n",
    "#删除列\n",
    "wb.sheets[\"正本\"][\"BB:BB\"].delete()"
   ]
  },
  {
   "cell_type": "markdown",
   "metadata": {},
   "source": [
    "# 修改边框\n",
    "LineStyle = 1 直线  \n",
    "LineStyle = 2 虚线  \n",
    "LineStyle = 4 点划线  \n",
    "LineStyle = 5 双点划线  \n",
    "Weight：设置边框线粗细  "
   ]
  },
  {
   "cell_type": "code",
   "execution_count": 49,
   "metadata": {},
   "outputs": [],
   "source": [
    "rng=wb.sheets[\"正本\"]['A1:E10']\n",
    "LineStyle = 5\n",
    "\n",
    "# Borders(7) 左边框\n",
    "rng.api.Borders(7).LineStyle = LineStyle\n",
    "rng.api.Borders(7).Weight = 2\n",
    "\n",
    "# Borders(8) 顶部框\n",
    "rng.api.Borders(8).LineStyle = LineStyle\n",
    "rng.api.Borders(8).Weight = 2\n",
    "\n",
    "# 底边框\n",
    "rng.api.Borders(9).LineStyle = LineStyle\n",
    "rng.api.Borders(9).Weight = 2\n",
    "\n",
    "# Borders(10) 右边框\n",
    "rng.api.Borders(10).LineStyle = LineStyle\n",
    "rng.api.Borders(10).Weight = 2\n",
    "                    \n",
    "# # Borders(11) 内部垂直边线。\n",
    "rng.api.Borders(11).LineStyle = LineStyle\n",
    "rng.api.Borders(11).Weight = 2\n",
    " \n",
    "# # Borders(12) 内部水平边线。\n",
    "rng.api.Borders(12).LineStyle = LineStyle\n",
    "rng.api.Borders(12).Weight = 2"
   ]
  },
  {
   "cell_type": "markdown",
   "metadata": {},
   "source": [
    "# 获取表格中的形状"
   ]
  },
  {
   "cell_type": "code",
   "execution_count": 50,
   "metadata": {},
   "outputs": [
    {
     "data": {
      "text/plain": [
       "Shapes([<Shape 'TextBox 1' in <Sheet [基准书1.xlsx]正本>>, <Shape 'Comment 1' in <Sheet [基准书1.xlsx]正本>>, <Shape 'Comment 2' in <Sheet [基准书1.xlsx]正本>>, ...])"
      ]
     },
     "execution_count": 50,
     "metadata": {},
     "output_type": "execute_result"
    }
   ],
   "source": [
    "wb.sheets[\"正本\"].shapes"
   ]
  },
  {
   "cell_type": "markdown",
   "metadata": {},
   "source": [
    "# 文本框"
   ]
  },
  {
   "cell_type": "code",
   "execution_count": 51,
   "metadata": {},
   "outputs": [
    {
     "name": "stdout",
     "output_type": "stream",
     "text": [
      "name: TextBox 1\n",
      "value: 测试公差\n",
      "value: 测试公差\n",
      "type: text_box\n",
      "heigh: 21.709999084472656\n",
      "width: 58.970314025878906\n",
      "允许文本溢出形状: 1\n"
     ]
    }
   ],
   "source": [
    "shape0=wb.sheets[\"正本\"].shapes[0]\n",
    "print(\"name:\",shape0.name)\n",
    "#读取shape的value有以下几种方法\n",
    "print(\"value:\",shape0.api.OLEFormat.Object.Text)\n",
    "print(\"value:\",shape0.api.TextFrame2.TextRange.Text)\n",
    "#print(\"value:\",shape0.api.TextFrame.Characters.Text)\n",
    "print(\"type:\",shape0.type)\n",
    "print(\"heigh:\",shape0.height)\n",
    "print(\"width:\",shape0.width)\n",
    "print(\"允许文本溢出形状:\",shape0.api.TextFrame.VerticalOverflow)"
   ]
  },
  {
   "cell_type": "markdown",
   "metadata": {},
   "source": [
    "# 复制一个sheet（此处用到了vba的函数，api后面可以使用任意vba函数）"
   ]
  },
  {
   "cell_type": "code",
   "execution_count": 52,
   "metadata": {},
   "outputs": [],
   "source": [
    "wb.sheets[\"1\"].api.Copy()\n",
    "wb2=app.books[1]\n",
    "sht2=wb2.sheets[0]"
   ]
  },
  {
   "cell_type": "markdown",
   "metadata": {
    "collapsed": true
   },
   "source": [
    "# 更改sheet的名称（此处用到了vba的函数，api后面可以使用任意vba函数）"
   ]
  },
  {
   "cell_type": "code",
   "execution_count": 53,
   "metadata": {},
   "outputs": [],
   "source": [
    "sht2.api.Name=\"QA2\""
   ]
  },
  {
   "cell_type": "markdown",
   "metadata": {},
   "source": [
    "# 图片"
   ]
  },
  {
   "cell_type": "code",
   "execution_count": 54,
   "metadata": {
    "scrolled": true
   },
   "outputs": [
    {
     "name": "stdout",
     "output_type": "stream",
     "text": [
      "name: Oval 2291\n",
      "type: auto_shape\n",
      "heigh: 21.0\n",
      "width: 37.5\n",
      "距离左边的距离: 391.5\n",
      "距离顶端的距离: 391.5\n"
     ]
    }
   ],
   "source": [
    "shape1=sht2.shapes[1]\n",
    "print(\"name:\",shape1.name)\n",
    "print(\"type:\",shape1.type)\n",
    "print(\"heigh:\",shape1.height)\n",
    "print(\"width:\",shape1.width)\n",
    "print(\"距离左边的距离:\",shape1.left)\n",
    "print(\"距离顶端的距离:\",shape1.left)\n",
    "\n",
    "#添加图片\n",
    "sht2.pictures.add(r'C:\\Windows\\Web\\Wallpaper\\Windows\\img0.jpg',left=500, top=300, width=10, height=10)\n",
    "\n",
    "#删除图片\n",
    "shape1.delete()"
   ]
  },
  {
   "cell_type": "markdown",
   "metadata": {},
   "source": [
    "# 修改单元格内文本"
   ]
  },
  {
   "cell_type": "code",
   "execution_count": 55,
   "metadata": {},
   "outputs": [],
   "source": [
    "sht2['J11'].value=\"支架\""
   ]
  },
  {
   "cell_type": "markdown",
   "metadata": {},
   "source": [
    "# 进行一组数据的赋值时默认是按行进行赋值"
   ]
  },
  {
   "cell_type": "code",
   "execution_count": 56,
   "metadata": {},
   "outputs": [],
   "source": [
    "sht2['A24'].value=[1, 2, 3,4]"
   ]
  },
  {
   "cell_type": "markdown",
   "metadata": {
    "collapsed": true
   },
   "source": [
    "# 按列进行赋值需要添加transpose参数"
   ]
  },
  {
   "cell_type": "code",
   "execution_count": 57,
   "metadata": {},
   "outputs": [],
   "source": [
    "sht2['A25'].options(transpose=True).value=[1, 2, 3,4]"
   ]
  },
  {
   "cell_type": "markdown",
   "metadata": {},
   "source": [
    "# 保存工作簿"
   ]
  },
  {
   "cell_type": "code",
   "execution_count": 58,
   "metadata": {},
   "outputs": [],
   "source": [
    "wb2.save(\"复制的工作表.xlsx\")"
   ]
  },
  {
   "cell_type": "markdown",
   "metadata": {},
   "source": [
    "# 转换文件格式\n",
    "| 名称                              | 值   | 说明                   | 扩展名 |\n",
    "| :-------------------------------- | :--- | :--------------------- | :----- |\n",
    "| **xlCSV**                         | 6    | CSV                    | *.csv  |\n",
    "| **xlExcel8**                      | 56   | Excel 97-2003 工作簿   | *.xls  |\n",
    "| **xlOpenXMLWorkbook**             | 51   | Open XML 工作簿        | *.xlsx |\n",
    "| **xlOpenXMLWorkbookMacroEnabled** | 52   | 启用 Open XML 工作簿宏 | *.xlsm |\n",
    "| **xlTextMac**                     | 19   | Macintosh 文本         | *.txt  |\n",
    "| **xlTextMSDOS**                   | 21   | MSDOS 文本             | *.txt  |\n",
    "| **xlTextWindows**                 | 20   | Windows 文本           | *.txt  |\n",
    "| **xlXMLSpreadsheet**              | 46   | XML 电子表格           | *.xml  |"
   ]
  },
  {
   "cell_type": "code",
   "execution_count": 59,
   "metadata": {},
   "outputs": [
    {
     "name": "stdout",
     "output_type": "stream",
     "text": [
      "H:\\学习资料\\编程学习\\pathon\\基础操作\\excel批处理\n"
     ]
    }
   ],
   "source": [
    "import os\n",
    "import sys\n",
    "print(sys.path[0])\n",
    "#os.chdir(sys.path[0])\n",
    "wb2.api.SaveAs( \"复制的工作表\",46)"
   ]
  },
  {
   "cell_type": "markdown",
   "metadata": {},
   "source": [
    "# 关闭excel"
   ]
  },
  {
   "cell_type": "code",
   "execution_count": 60,
   "metadata": {},
   "outputs": [],
   "source": [
    "app.books[1].close()\n",
    "app.kill()"
   ]
  }
 ],
 "metadata": {
  "kernelspec": {
   "display_name": "Python 3",
   "language": "python",
   "name": "python3"
  },
  "language_info": {
   "codemirror_mode": {
    "name": "ipython",
    "version": 3
   },
   "file_extension": ".py",
   "mimetype": "text/x-python",
   "name": "python",
   "nbconvert_exporter": "python",
   "pygments_lexer": "ipython3",
   "version": "3.7.7"
  }
 },
 "nbformat": 4,
 "nbformat_minor": 2
}
